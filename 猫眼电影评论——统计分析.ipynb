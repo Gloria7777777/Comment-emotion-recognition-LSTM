{
 "cells": [
  {
   "cell_type": "code",
   "execution_count": 1,
   "metadata": {},
   "outputs": [],
   "source": [
    "import pandas as pd\n",
    "import filetype\n",
    "import numpy as np\n",
    "import pandas as pd\n",
    "import matplotlib.pyplot as plt\n",
    "import matplotlib as mpl\n",
    "import seaborn as sns\n",
    "from subprocess import check_output\n",
    "from wordcloud import WordCloud,STOPWORDS\n",
    "import time\n",
    "import jieba\n",
    "import sys\n",
    "sys.setrecursionlimit(1000000)\n",
    "from jieba import analyse\n",
    "from __future__ import print_function\n",
    "from snownlp import SnowNLP\n",
    "from sklearn.linear_model import LinearRegression\n",
    "from sklearn.preprocessing import StandardScaler"
   ]
  },
  {
   "cell_type": "code",
   "execution_count": 2,
   "metadata": {},
   "outputs": [],
   "source": [
    "movie=pd.read_csv('C:\\\\comments.csv',header=0, names = ['id','nick','content','score','startTime'])\n",
    "movie=movie.fillna(\"\")\n",
    "movie['contentlen']=movie['content'].apply(lambda x:len(x))"
   ]
  },
  {
   "cell_type": "code",
   "execution_count": 3,
   "metadata": {},
   "outputs": [
    {
     "data": {
      "text/html": [
       "<div>\n",
       "<style scoped>\n",
       "    .dataframe tbody tr th:only-of-type {\n",
       "        vertical-align: middle;\n",
       "    }\n",
       "\n",
       "    .dataframe tbody tr th {\n",
       "        vertical-align: top;\n",
       "    }\n",
       "\n",
       "    .dataframe thead th {\n",
       "        text-align: right;\n",
       "    }\n",
       "</style>\n",
       "<table border=\"1\" class=\"dataframe\">\n",
       "  <thead>\n",
       "    <tr style=\"text-align: right;\">\n",
       "      <th></th>\n",
       "      <th>id</th>\n",
       "      <th>nick</th>\n",
       "      <th>content</th>\n",
       "      <th>score</th>\n",
       "      <th>startTime</th>\n",
       "      <th>contentlen</th>\n",
       "    </tr>\n",
       "  </thead>\n",
       "  <tbody>\n",
       "    <tr>\n",
       "      <th>0</th>\n",
       "      <td>1047946860</td>\n",
       "      <td>MSt764477283</td>\n",
       "      <td>挺好看的，推荐推荐。</td>\n",
       "      <td>10</td>\n",
       "      <td>1545062340000</td>\n",
       "      <td>10</td>\n",
       "    </tr>\n",
       "    <tr>\n",
       "      <th>1</th>\n",
       "      <td>1047937581</td>\n",
       "      <td>路知道我在路上</td>\n",
       "      <td>还可以吧这次</td>\n",
       "      <td>6</td>\n",
       "      <td>1545059280000</td>\n",
       "      <td>6</td>\n",
       "    </tr>\n",
       "    <tr>\n",
       "      <th>2</th>\n",
       "      <td>1047943270</td>\n",
       "      <td>Rio3201</td>\n",
       "      <td>有教育意义，还不错</td>\n",
       "      <td>9</td>\n",
       "      <td>1545056880000</td>\n",
       "      <td>9</td>\n",
       "    </tr>\n",
       "    <tr>\n",
       "      <th>3</th>\n",
       "      <td>1047944213</td>\n",
       "      <td>rao715972358</td>\n",
       "      <td>影片很值得观看，很有意义</td>\n",
       "      <td>10</td>\n",
       "      <td>1545056880000</td>\n",
       "      <td>12</td>\n",
       "    </tr>\n",
       "    <tr>\n",
       "      <th>4</th>\n",
       "      <td>1047944182</td>\n",
       "      <td>Ck城市猎人</td>\n",
       "      <td>黄渤这种人电影看一部少一部。必须支持</td>\n",
       "      <td>10</td>\n",
       "      <td>1545056700000</td>\n",
       "      <td>18</td>\n",
       "    </tr>\n",
       "  </tbody>\n",
       "</table>\n",
       "</div>"
      ],
      "text/plain": [
       "           id          nick             content score      startTime  \\\n",
       "0  1047946860  MSt764477283          挺好看的，推荐推荐。    10  1545062340000   \n",
       "1  1047937581       路知道我在路上              还可以吧这次     6  1545059280000   \n",
       "2  1047943270       Rio3201           有教育意义，还不错     9  1545056880000   \n",
       "3  1047944213  rao715972358        影片很值得观看，很有意义    10  1545056880000   \n",
       "4  1047944182        Ck城市猎人  黄渤这种人电影看一部少一部。必须支持    10  1545056700000   \n",
       "\n",
       "   contentlen  \n",
       "0          10  \n",
       "1           6  \n",
       "2           9  \n",
       "3          12  \n",
       "4          18  "
      ]
     },
     "execution_count": 3,
     "metadata": {},
     "output_type": "execute_result"
    }
   ],
   "source": [
    "movie.head()"
   ]
  },
  {
   "cell_type": "code",
   "execution_count": 4,
   "metadata": {},
   "outputs": [],
   "source": [
    "def timestamp_datetime(x):\n",
    "    dt=\"\"\n",
    "    try:\n",
    "        value = time.localtime(float(x)/1000)\n",
    "        dt = time.strftime('%Y-%m-%d %H:%M:%S', value)\n",
    "    except:\n",
    "        dt=\"0000000\"\n",
    "    return dt\n",
    "\n",
    "movie['startTime1']=movie.startTime.apply(lambda x:timestamp_datetime(x))"
   ]
  },
  {
   "cell_type": "code",
   "execution_count": 5,
   "metadata": {},
   "outputs": [
    {
     "name": "stderr",
     "output_type": "stream",
     "text": [
      "Building prefix dict from the default dictionary ...\n",
      "Loading model from cache C:\\Users\\ADMINI~1\\AppData\\Local\\Temp\\jieba.cache\n",
      "Loading model cost 1.196 seconds.\n",
      "Prefix dict has been built succesfully.\n"
     ]
    }
   ],
   "source": [
    "def content_to_keyword(x):\n",
    "    kw=\"\"\n",
    "    textrank = analyse.textrank\n",
    "    keywords=textrank(x)\n",
    "    for keyword in keywords:\n",
    "        kw+=keyword+\"/\"\n",
    "    return kw\n",
    "movie['keyword']=movie.content.apply(lambda x:content_to_keyword(x))"
   ]
  },
  {
   "cell_type": "code",
   "execution_count": 6,
   "metadata": {},
   "outputs": [],
   "source": [
    "def score_nlp(x):\n",
    "    score_1=0\n",
    "    s=SnowNLP(x)\n",
    "    score_1=s.sentiments\n",
    "#    print(score_1)\n",
    "    return score_1"
   ]
  },
  {
   "cell_type": "code",
   "execution_count": 8,
   "metadata": {},
   "outputs": [],
   "source": [
    "movie['score_nlp']=movie.content.apply(lambda x:score_nlp(x))"
   ]
  },
  {
   "cell_type": "code",
   "execution_count": 9,
   "metadata": {
    "scrolled": true
   },
   "outputs": [
    {
     "data": {
      "text/html": [
       "<div>\n",
       "<style scoped>\n",
       "    .dataframe tbody tr th:only-of-type {\n",
       "        vertical-align: middle;\n",
       "    }\n",
       "\n",
       "    .dataframe tbody tr th {\n",
       "        vertical-align: top;\n",
       "    }\n",
       "\n",
       "    .dataframe thead th {\n",
       "        text-align: right;\n",
       "    }\n",
       "</style>\n",
       "<table border=\"1\" class=\"dataframe\">\n",
       "  <thead>\n",
       "    <tr style=\"text-align: right;\">\n",
       "      <th></th>\n",
       "      <th>id</th>\n",
       "      <th>nick</th>\n",
       "      <th>content</th>\n",
       "      <th>score</th>\n",
       "      <th>startTime</th>\n",
       "      <th>contentlen</th>\n",
       "      <th>startTime1</th>\n",
       "      <th>keyword</th>\n",
       "      <th>score_nlp</th>\n",
       "    </tr>\n",
       "  </thead>\n",
       "  <tbody>\n",
       "    <tr>\n",
       "      <th>0</th>\n",
       "      <td>1047946860</td>\n",
       "      <td>MSt764477283</td>\n",
       "      <td>挺好看的，推荐推荐。</td>\n",
       "      <td>10</td>\n",
       "      <td>1545062340000</td>\n",
       "      <td>10</td>\n",
       "      <td>2018-12-17 23:59:00</td>\n",
       "      <td>推荐/好看/</td>\n",
       "      <td>0.937477</td>\n",
       "    </tr>\n",
       "    <tr>\n",
       "      <th>1</th>\n",
       "      <td>1047937581</td>\n",
       "      <td>路知道我在路上</td>\n",
       "      <td>还可以吧这次</td>\n",
       "      <td>6</td>\n",
       "      <td>1545059280000</td>\n",
       "      <td>6</td>\n",
       "      <td>2018-12-17 23:08:00</td>\n",
       "      <td></td>\n",
       "      <td>0.625498</td>\n",
       "    </tr>\n",
       "    <tr>\n",
       "      <th>2</th>\n",
       "      <td>1047943270</td>\n",
       "      <td>Rio3201</td>\n",
       "      <td>有教育意义，还不错</td>\n",
       "      <td>9</td>\n",
       "      <td>1545056880000</td>\n",
       "      <td>9</td>\n",
       "      <td>2018-12-17 22:28:00</td>\n",
       "      <td>教育/意义/</td>\n",
       "      <td>0.973537</td>\n",
       "    </tr>\n",
       "    <tr>\n",
       "      <th>3</th>\n",
       "      <td>1047944213</td>\n",
       "      <td>rao715972358</td>\n",
       "      <td>影片很值得观看，很有意义</td>\n",
       "      <td>10</td>\n",
       "      <td>1545056880000</td>\n",
       "      <td>12</td>\n",
       "      <td>2018-12-17 22:28:00</td>\n",
       "      <td>观看/影片/值得/意义/</td>\n",
       "      <td>0.966977</td>\n",
       "    </tr>\n",
       "    <tr>\n",
       "      <th>4</th>\n",
       "      <td>1047944182</td>\n",
       "      <td>Ck城市猎人</td>\n",
       "      <td>黄渤这种人电影看一部少一部。必须支持</td>\n",
       "      <td>10</td>\n",
       "      <td>1545056700000</td>\n",
       "      <td>18</td>\n",
       "      <td>2018-12-17 22:25:00</td>\n",
       "      <td>黄渤/电影/</td>\n",
       "      <td>0.926116</td>\n",
       "    </tr>\n",
       "  </tbody>\n",
       "</table>\n",
       "</div>"
      ],
      "text/plain": [
       "           id          nick             content score      startTime  \\\n",
       "0  1047946860  MSt764477283          挺好看的，推荐推荐。    10  1545062340000   \n",
       "1  1047937581       路知道我在路上              还可以吧这次     6  1545059280000   \n",
       "2  1047943270       Rio3201           有教育意义，还不错     9  1545056880000   \n",
       "3  1047944213  rao715972358        影片很值得观看，很有意义    10  1545056880000   \n",
       "4  1047944182        Ck城市猎人  黄渤这种人电影看一部少一部。必须支持    10  1545056700000   \n",
       "\n",
       "   contentlen           startTime1       keyword  score_nlp  \n",
       "0          10  2018-12-17 23:59:00        推荐/好看/   0.937477  \n",
       "1           6  2018-12-17 23:08:00                 0.625498  \n",
       "2           9  2018-12-17 22:28:00        教育/意义/   0.973537  \n",
       "3          12  2018-12-17 22:28:00  观看/影片/值得/意义/   0.966977  \n",
       "4          18  2018-12-17 22:25:00        黄渤/电影/   0.926116  "
      ]
     },
     "execution_count": 9,
     "metadata": {},
     "output_type": "execute_result"
    }
   ],
   "source": [
    "movie.head()"
   ]
  },
  {
   "cell_type": "code",
   "execution_count": 21,
   "metadata": {},
   "outputs": [],
   "source": [
    "sum_comments=movie[['content']]\n",
    "sum_comments.to_csv(\"sum_comments.csv\")"
   ]
  },
  {
   "cell_type": "code",
   "execution_count": 17,
   "metadata": {},
   "outputs": [],
   "source": [
    "new_movie=movie[['content','score']]"
   ]
  },
  {
   "cell_type": "code",
   "execution_count": 18,
   "metadata": {},
   "outputs": [],
   "source": [
    "new_movie.to_csv(\"new_movie.csv\")"
   ]
  },
  {
   "cell_type": "code",
   "execution_count": 7,
   "metadata": {},
   "outputs": [],
   "source": [
    "word_embedding=movie[['content']]\n",
    "word_embedding.to_csv(\"word_embedding.csv\")"
   ]
  },
  {
   "cell_type": "code",
   "execution_count": 22,
   "metadata": {},
   "outputs": [
    {
     "data": {
      "text/html": [
       "<div>\n",
       "<style scoped>\n",
       "    .dataframe tbody tr th:only-of-type {\n",
       "        vertical-align: middle;\n",
       "    }\n",
       "\n",
       "    .dataframe tbody tr th {\n",
       "        vertical-align: top;\n",
       "    }\n",
       "\n",
       "    .dataframe thead th {\n",
       "        text-align: right;\n",
       "    }\n",
       "</style>\n",
       "<table border=\"1\" class=\"dataframe\">\n",
       "  <thead>\n",
       "    <tr style=\"text-align: right;\">\n",
       "      <th></th>\n",
       "      <th>id</th>\n",
       "      <th>score</th>\n",
       "      <th>startTime</th>\n",
       "      <th>contentlen</th>\n",
       "      <th>score_nlp</th>\n",
       "    </tr>\n",
       "  </thead>\n",
       "  <tbody>\n",
       "    <tr>\n",
       "      <th>id</th>\n",
       "      <td>1.000000</td>\n",
       "      <td>0.006885</td>\n",
       "      <td>0.329024</td>\n",
       "      <td>-0.063167</td>\n",
       "      <td>-0.011266</td>\n",
       "    </tr>\n",
       "    <tr>\n",
       "      <th>score</th>\n",
       "      <td>0.006885</td>\n",
       "      <td>1.000000</td>\n",
       "      <td>0.047457</td>\n",
       "      <td>0.011394</td>\n",
       "      <td>0.439349</td>\n",
       "    </tr>\n",
       "    <tr>\n",
       "      <th>startTime</th>\n",
       "      <td>0.329024</td>\n",
       "      <td>0.047457</td>\n",
       "      <td>1.000000</td>\n",
       "      <td>-0.126065</td>\n",
       "      <td>-0.010698</td>\n",
       "    </tr>\n",
       "    <tr>\n",
       "      <th>contentlen</th>\n",
       "      <td>-0.063167</td>\n",
       "      <td>0.011394</td>\n",
       "      <td>-0.126065</td>\n",
       "      <td>1.000000</td>\n",
       "      <td>0.201684</td>\n",
       "    </tr>\n",
       "    <tr>\n",
       "      <th>score_nlp</th>\n",
       "      <td>-0.011266</td>\n",
       "      <td>0.439349</td>\n",
       "      <td>-0.010698</td>\n",
       "      <td>0.201684</td>\n",
       "      <td>1.000000</td>\n",
       "    </tr>\n",
       "  </tbody>\n",
       "</table>\n",
       "</div>"
      ],
      "text/plain": [
       "                  id     score  startTime  contentlen  score_nlp\n",
       "id          1.000000  0.006885   0.329024   -0.063167  -0.011266\n",
       "score       0.006885  1.000000   0.047457    0.011394   0.439349\n",
       "startTime   0.329024  0.047457   1.000000   -0.126065  -0.010698\n",
       "contentlen -0.063167  0.011394  -0.126065    1.000000   0.201684\n",
       "score_nlp  -0.011266  0.439349  -0.010698    0.201684   1.000000"
      ]
     },
     "execution_count": 22,
     "metadata": {},
     "output_type": "execute_result"
    }
   ],
   "source": [
    "movie.corr()"
   ]
  },
  {
   "cell_type": "code",
   "execution_count": 15,
   "metadata": {},
   "outputs": [],
   "source": [
    "NoScoreMovie=movie[movie.score=='']\n",
    "ScoreMovie=movie[movie.score!='']"
   ]
  },
  {
   "cell_type": "code",
   "execution_count": 17,
   "metadata": {},
   "outputs": [],
   "source": [
    "X = ScoreMovie.iloc[:,[8]]\n",
    "y = ScoreMovie['score']\n",
    "sc_x = StandardScaler()\n",
    "sc_y = StandardScaler()\n",
    "X_std = sc_x.fit_transform(X)\n",
    "y=list(y)"
   ]
  },
  {
   "cell_type": "code",
   "execution_count": 18,
   "metadata": {},
   "outputs": [
    {
     "data": {
      "text/plain": [
       "LinearRegression(copy_X=True, fit_intercept=True, n_jobs=1, normalize=False)"
      ]
     },
     "execution_count": 18,
     "metadata": {},
     "output_type": "execute_result"
    }
   ],
   "source": [
    "lr = LinearRegression()\n",
    "lr.fit(X_std, y)"
   ]
  },
  {
   "cell_type": "code",
   "execution_count": 19,
   "metadata": {},
   "outputs": [],
   "source": [
    "X0=NoScoreMovie.iloc[:,[8]]\n",
    "X_std0= sc_x.fit_transform(X0)\n",
    "y0=lr.predict(X_std0)\n",
    "y0=np.round(y0)"
   ]
  },
  {
   "cell_type": "code",
   "execution_count": 20,
   "metadata": {},
   "outputs": [],
   "source": [
    "movie.loc[movie.score=='','score']=y0"
   ]
  },
  {
   "cell_type": "code",
   "execution_count": 24,
   "metadata": {},
   "outputs": [
    {
     "data": {
      "image/png": "[encoded data removed]",
      "text/plain": [
       "<Figure size 432x288 with 2 Axes>"
      ]
     },
     "metadata": {},
     "output_type": "display_data"
    }
   ],
   "source": [
    "cols = ['score_nlp','contentlen','score']\n",
    "cm = np.corrcoef(movie[cols].values.T) # 计算相关系数\n",
    "sns.set(font_scale=1.5)\n",
    "\n",
    "# 画相关系数矩阵的热点图\n",
    "hm = sns.heatmap(cm,\n",
    "        annot=True, \n",
    "        square=True,\n",
    "        fmt='.2f',\n",
    "        annot_kws={'size': 15},\n",
    "        yticklabels=cols,\n",
    "        xticklabels=cols)\n",
    "plt.tight_layout()"
   ]
  },
  {
   "cell_type": "code",
   "execution_count": 25,
   "metadata": {},
   "outputs": [
    {
     "name": "stdout",
     "output_type": "stream",
     "text": [
      "10    0.466472\n",
      "8     0.151135\n",
      "9     0.149019\n",
      "7     0.073479\n",
      "6     0.045459\n",
      "Name: score, dtype: float64\n"
     ]
    },
    {
     "data": {
      "image/png": "[encoded data removed]",
      "text/plain": [
       "<Figure size 432x288 with 1 Axes>"
      ]
     },
     "metadata": {},
     "output_type": "display_data"
    }
   ],
   "source": [
    "#评分占比\n",
    "rate_score=movie[\"score\"].value_counts()/movie[\"score\"].count()\n",
    "print(rate_score.head())\n",
    "plt.gca().set_aspect('equal')\n",
    "rate_score.head(15).plot.pie()\n",
    "plt.gca().set_aspect('equal')"
   ]
  },
  {
   "cell_type": "code",
   "execution_count": 19,
   "metadata": {},
   "outputs": [
    {
     "data": {
      "text/plain": [
       "<wordcloud.wordcloud.WordCloud at 0x22b15a6a588>"
      ]
     },
     "execution_count": 19,
     "metadata": {},
     "output_type": "execute_result"
    },
    {
     "data": {
      "image/png": "[encoded data removed]",
      "text/plain": [
       "<Figure size 432x288 with 1 Axes>"
      ]
     },
     "metadata": {},
     "output_type": "display_data"
    }
   ],
   "source": [
    "comments=[]\n",
    "for comment in movie['content']:\n",
    "    if comment!='':\n",
    "        comments.append(comment)\n",
    "comment_after_split=jieba.cut(str(comments),cut_all=False)\n",
    "words=' '.join(comment_after_split)\n",
    "stopwords=STOPWORDS.copy()\n",
    "stopwords.add('电影')\n",
    "stopwords.add('但是')\n",
    "stopwords.add('有点')\n",
    "stopwords.add('影片')\n",
    "stopwords.add('电影')\n",
    "stopwords.add('感觉')\n",
    "stopwords.add('这部')\n",
    "stopwords.add('觉得')\n",
    "stopwords.add('一部')\n",
    "stopwords.add('一个')\n",
    "bg_image=plt.imread('E:\\\\star.jpg')\n",
    "wc=WordCloud(width=1024,height=987,background_color='white',mask=bg_image,stopwords=stopwords,max_font_size=400,random_state=50,font_path='STZHONGS.TTF')\n",
    "wc.generate_from_text(words)\n",
    "plt.imshow(wc)\n",
    "plt.axis('off')\n",
    "plt.show\n",
    "wc.to_file('wordcloud0.jpg')"
   ]
  },
  {
   "cell_type": "code",
   "execution_count": 26,
   "metadata": {},
   "outputs": [],
   "source": [
    "def start_time(x):\n",
    "    startTime2=str(x)\n",
    "    startTime3=startTime2[:10]\n",
    "    return startTime3"
   ]
  },
  {
   "cell_type": "code",
   "execution_count": 27,
   "metadata": {},
   "outputs": [],
   "source": [
    "movie['start_time']=movie.startTime1.apply(lambda x:start_time(x))"
   ]
  },
  {
   "cell_type": "code",
   "execution_count": 28,
   "metadata": {},
   "outputs": [],
   "source": [
    "new_movie=movie[[\"id\",\"nick\",\"content\",\"score\",\"contentlen\",\"keyword\",\"score_nlp\",\"start_time\"]]"
   ]
  },
  {
   "cell_type": "code",
   "execution_count": 29,
   "metadata": {},
   "outputs": [
    {
     "data": {
      "text/html": [
       "<div>\n",
       "<style scoped>\n",
       "    .dataframe tbody tr th:only-of-type {\n",
       "        vertical-align: middle;\n",
       "    }\n",
       "\n",
       "    .dataframe tbody tr th {\n",
       "        vertical-align: top;\n",
       "    }\n",
       "\n",
       "    .dataframe thead th {\n",
       "        text-align: right;\n",
       "    }\n",
       "</style>\n",
       "<table border=\"1\" class=\"dataframe\">\n",
       "  <thead>\n",
       "    <tr style=\"text-align: right;\">\n",
       "      <th></th>\n",
       "      <th>id</th>\n",
       "      <th>nick</th>\n",
       "      <th>content</th>\n",
       "      <th>score</th>\n",
       "      <th>contentlen</th>\n",
       "      <th>keyword</th>\n",
       "      <th>score_nlp</th>\n",
       "      <th>start_time</th>\n",
       "    </tr>\n",
       "  </thead>\n",
       "  <tbody>\n",
       "    <tr>\n",
       "      <th>0</th>\n",
       "      <td>1047946860</td>\n",
       "      <td>MSt764477283</td>\n",
       "      <td>挺好看的，推荐推荐。</td>\n",
       "      <td>10</td>\n",
       "      <td>10</td>\n",
       "      <td>推荐/好看/</td>\n",
       "      <td>0.937477</td>\n",
       "      <td>2018-12-17</td>\n",
       "    </tr>\n",
       "    <tr>\n",
       "      <th>1</th>\n",
       "      <td>1047937581</td>\n",
       "      <td>路知道我在路上</td>\n",
       "      <td>还可以吧这次</td>\n",
       "      <td>6</td>\n",
       "      <td>6</td>\n",
       "      <td></td>\n",
       "      <td>0.625498</td>\n",
       "      <td>2018-12-17</td>\n",
       "    </tr>\n",
       "    <tr>\n",
       "      <th>2</th>\n",
       "      <td>1047943270</td>\n",
       "      <td>Rio3201</td>\n",
       "      <td>有教育意义，还不错</td>\n",
       "      <td>9</td>\n",
       "      <td>9</td>\n",
       "      <td>教育/意义/</td>\n",
       "      <td>0.973537</td>\n",
       "      <td>2018-12-17</td>\n",
       "    </tr>\n",
       "    <tr>\n",
       "      <th>3</th>\n",
       "      <td>1047944213</td>\n",
       "      <td>rao715972358</td>\n",
       "      <td>影片很值得观看，很有意义</td>\n",
       "      <td>10</td>\n",
       "      <td>12</td>\n",
       "      <td>观看/影片/值得/意义/</td>\n",
       "      <td>0.966977</td>\n",
       "      <td>2018-12-17</td>\n",
       "    </tr>\n",
       "    <tr>\n",
       "      <th>4</th>\n",
       "      <td>1047944182</td>\n",
       "      <td>Ck城市猎人</td>\n",
       "      <td>黄渤这种人电影看一部少一部。必须支持</td>\n",
       "      <td>10</td>\n",
       "      <td>18</td>\n",
       "      <td>黄渤/电影/</td>\n",
       "      <td>0.926116</td>\n",
       "      <td>2018-12-17</td>\n",
       "    </tr>\n",
       "  </tbody>\n",
       "</table>\n",
       "</div>"
      ],
      "text/plain": [
       "           id          nick             content  score  contentlen  \\\n",
       "0  1047946860  MSt764477283          挺好看的，推荐推荐。     10          10   \n",
       "1  1047937581       路知道我在路上              还可以吧这次      6           6   \n",
       "2  1047943270       Rio3201           有教育意义，还不错      9           9   \n",
       "3  1047944213  rao715972358        影片很值得观看，很有意义     10          12   \n",
       "4  1047944182        Ck城市猎人  黄渤这种人电影看一部少一部。必须支持     10          18   \n",
       "\n",
       "        keyword  score_nlp  start_time  \n",
       "0        推荐/好看/   0.937477  2018-12-17  \n",
       "1                 0.625498  2018-12-17  \n",
       "2        教育/意义/   0.973537  2018-12-17  \n",
       "3  观看/影片/值得/意义/   0.966977  2018-12-17  \n",
       "4        黄渤/电影/   0.926116  2018-12-17  "
      ]
     },
     "execution_count": 29,
     "metadata": {},
     "output_type": "execute_result"
    }
   ],
   "source": [
    "new_movie.head()"
   ]
  },
  {
   "cell_type": "code",
   "execution_count": 30,
   "metadata": {},
   "outputs": [
    {
     "data": {
      "text/plain": [
       "<matplotlib.axes._subplots.AxesSubplot at 0x392aa2b0>"
      ]
     },
     "execution_count": 30,
     "metadata": {},
     "output_type": "execute_result"
    },
    {
     "data": {
      "image/png": "[encoded data removed]",
      "text/plain": [
       "<Figure size 1080x360 with 1 Axes>"
      ]
     },
     "metadata": {},
     "output_type": "display_data"
    }
   ],
   "source": [
    "new_movie[[\"score\",\"start_time\"]].groupby(\"start_time\").mean().plot(figsize=(15,5),kind=\"line\")"
   ]
  },
  {
   "cell_type": "code",
   "execution_count": 21,
   "metadata": {},
   "outputs": [],
   "source": [
    "def MaxMinNormalization(x):\n",
    "    x = (int(x) - 0) / (10)# x = (x - min) / (max - min)\n",
    "    return x\n",
    "movie['score']=movie.score.apply(lambda x:MaxMinNormalization(x))\n",
    "movie['ratio']=movie['score']/movie['score_nlp']"
   ]
  },
  {
   "cell_type": "code",
   "execution_count": 22,
   "metadata": {},
   "outputs": [
    {
     "data": {
      "text/html": [
       "<div>\n",
       "<style scoped>\n",
       "    .dataframe tbody tr th:only-of-type {\n",
       "        vertical-align: middle;\n",
       "    }\n",
       "\n",
       "    .dataframe tbody tr th {\n",
       "        vertical-align: top;\n",
       "    }\n",
       "\n",
       "    .dataframe thead th {\n",
       "        text-align: right;\n",
       "    }\n",
       "</style>\n",
       "<table border=\"1\" class=\"dataframe\">\n",
       "  <thead>\n",
       "    <tr style=\"text-align: right;\">\n",
       "      <th></th>\n",
       "      <th>id</th>\n",
       "      <th>nick</th>\n",
       "      <th>content</th>\n",
       "      <th>score</th>\n",
       "      <th>startTime</th>\n",
       "      <th>contentlen</th>\n",
       "      <th>startTime1</th>\n",
       "      <th>keyword</th>\n",
       "      <th>score_nlp</th>\n",
       "      <th>ratio</th>\n",
       "    </tr>\n",
       "  </thead>\n",
       "  <tbody>\n",
       "    <tr>\n",
       "      <th>0</th>\n",
       "      <td>1047946860</td>\n",
       "      <td>MSt764477283</td>\n",
       "      <td>挺好看的，推荐推荐。</td>\n",
       "      <td>1.0</td>\n",
       "      <td>1545062340000</td>\n",
       "      <td>10</td>\n",
       "      <td>2018-12-17 23:59:00</td>\n",
       "      <td>推荐/好看/</td>\n",
       "      <td>0.937477</td>\n",
       "      <td>1.066693</td>\n",
       "    </tr>\n",
       "    <tr>\n",
       "      <th>1</th>\n",
       "      <td>1047937581</td>\n",
       "      <td>路知道我在路上</td>\n",
       "      <td>还可以吧这次</td>\n",
       "      <td>0.6</td>\n",
       "      <td>1545059280000</td>\n",
       "      <td>6</td>\n",
       "      <td>2018-12-17 23:08:00</td>\n",
       "      <td></td>\n",
       "      <td>0.625498</td>\n",
       "      <td>0.959236</td>\n",
       "    </tr>\n",
       "    <tr>\n",
       "      <th>2</th>\n",
       "      <td>1047943270</td>\n",
       "      <td>Rio3201</td>\n",
       "      <td>有教育意义，还不错</td>\n",
       "      <td>0.9</td>\n",
       "      <td>1545056880000</td>\n",
       "      <td>9</td>\n",
       "      <td>2018-12-17 22:28:00</td>\n",
       "      <td>教育/意义/</td>\n",
       "      <td>0.973537</td>\n",
       "      <td>0.924465</td>\n",
       "    </tr>\n",
       "    <tr>\n",
       "      <th>3</th>\n",
       "      <td>1047944213</td>\n",
       "      <td>rao715972358</td>\n",
       "      <td>影片很值得观看，很有意义</td>\n",
       "      <td>1.0</td>\n",
       "      <td>1545056880000</td>\n",
       "      <td>12</td>\n",
       "      <td>2018-12-17 22:28:00</td>\n",
       "      <td>观看/影片/值得/意义/</td>\n",
       "      <td>0.966977</td>\n",
       "      <td>1.034151</td>\n",
       "    </tr>\n",
       "    <tr>\n",
       "      <th>4</th>\n",
       "      <td>1047944182</td>\n",
       "      <td>Ck城市猎人</td>\n",
       "      <td>黄渤这种人电影看一部少一部。必须支持</td>\n",
       "      <td>1.0</td>\n",
       "      <td>1545056700000</td>\n",
       "      <td>18</td>\n",
       "      <td>2018-12-17 22:25:00</td>\n",
       "      <td>黄渤/电影/</td>\n",
       "      <td>0.926116</td>\n",
       "      <td>1.079778</td>\n",
       "    </tr>\n",
       "  </tbody>\n",
       "</table>\n",
       "</div>"
      ],
      "text/plain": [
       "           id          nick             content  score      startTime  \\\n",
       "0  1047946860  MSt764477283          挺好看的，推荐推荐。    1.0  1545062340000   \n",
       "1  1047937581       路知道我在路上              还可以吧这次    0.6  1545059280000   \n",
       "2  1047943270       Rio3201           有教育意义，还不错    0.9  1545056880000   \n",
       "3  1047944213  rao715972358        影片很值得观看，很有意义    1.0  1545056880000   \n",
       "4  1047944182        Ck城市猎人  黄渤这种人电影看一部少一部。必须支持    1.0  1545056700000   \n",
       "\n",
       "   contentlen           startTime1       keyword  score_nlp     ratio  \n",
       "0          10  2018-12-17 23:59:00        推荐/好看/   0.937477  1.066693  \n",
       "1           6  2018-12-17 23:08:00                 0.625498  0.959236  \n",
       "2           9  2018-12-17 22:28:00        教育/意义/   0.973537  0.924465  \n",
       "3          12  2018-12-17 22:28:00  观看/影片/值得/意义/   0.966977  1.034151  \n",
       "4          18  2018-12-17 22:25:00        黄渤/电影/   0.926116  1.079778  "
      ]
     },
     "execution_count": 22,
     "metadata": {},
     "output_type": "execute_result"
    }
   ],
   "source": [
    "movie.head()"
   ]
  },
  {
   "cell_type": "code",
   "execution_count": 28,
   "metadata": {},
   "outputs": [
    {
     "data": {
      "text/html": [
       "<div>\n",
       "<style scoped>\n",
       "    .dataframe tbody tr th:only-of-type {\n",
       "        vertical-align: middle;\n",
       "    }\n",
       "\n",
       "    .dataframe tbody tr th {\n",
       "        vertical-align: top;\n",
       "    }\n",
       "\n",
       "    .dataframe thead th {\n",
       "        text-align: right;\n",
       "    }\n",
       "</style>\n",
       "<table border=\"1\" class=\"dataframe\">\n",
       "  <thead>\n",
       "    <tr style=\"text-align: right;\">\n",
       "      <th></th>\n",
       "      <th>id</th>\n",
       "      <th>nick</th>\n",
       "      <th>content</th>\n",
       "      <th>score</th>\n",
       "      <th>startTime</th>\n",
       "      <th>contentlen</th>\n",
       "      <th>startTime1</th>\n",
       "      <th>keyword</th>\n",
       "      <th>score_nlp</th>\n",
       "      <th>ratio</th>\n",
       "    </tr>\n",
       "  </thead>\n",
       "  <tbody>\n",
       "    <tr>\n",
       "      <th>5</th>\n",
       "      <td>1047931589</td>\n",
       "      <td>睡美熊wt</td>\n",
       "      <td>张艺兴，差点没认出他来</td>\n",
       "      <td>0.9</td>\n",
       "      <td>1545056580000</td>\n",
       "      <td>11</td>\n",
       "      <td>2018-12-17 22:23:00</td>\n",
       "      <td>认出/差点/</td>\n",
       "      <td>0.160609</td>\n",
       "      <td>5.603675</td>\n",
       "    </tr>\n",
       "    <tr>\n",
       "      <th>8</th>\n",
       "      <td>1047936100</td>\n",
       "      <td>美女o请你看电影</td>\n",
       "      <td>发的干活吧不回家</td>\n",
       "      <td>1.0</td>\n",
       "      <td>1545053400000</td>\n",
       "      <td>8</td>\n",
       "      <td>2018-12-17 21:30:00</td>\n",
       "      <td></td>\n",
       "      <td>0.186794</td>\n",
       "      <td>5.353499</td>\n",
       "    </tr>\n",
       "    <tr>\n",
       "      <th>24</th>\n",
       "      <td>1047906663</td>\n",
       "      <td>cxT290563230</td>\n",
       "      <td>男神的影片，支持一次吧，说实话，觉得有点低于期望值</td>\n",
       "      <td>0.7</td>\n",
       "      <td>1545039300000</td>\n",
       "      <td>25</td>\n",
       "      <td>2018-12-17 17:35:00</td>\n",
       "      <td>觉得/男神/期望值/支持/有点/影片/低于/</td>\n",
       "      <td>0.024580</td>\n",
       "      <td>28.478863</td>\n",
       "    </tr>\n",
       "    <tr>\n",
       "      <th>39</th>\n",
       "      <td>1047900227</td>\n",
       "      <td>小菜主题私人订制</td>\n",
       "      <td>黄渤太逗了  好看</td>\n",
       "      <td>1.0</td>\n",
       "      <td>1545025320000</td>\n",
       "      <td>9</td>\n",
       "      <td>2018-12-17 13:42:00</td>\n",
       "      <td></td>\n",
       "      <td>0.155487</td>\n",
       "      <td>6.431400</td>\n",
       "    </tr>\n",
       "    <tr>\n",
       "      <th>84</th>\n",
       "      <td>1047802736</td>\n",
       "      <td>曾相识的人</td>\n",
       "      <td>很好看，太逗太逗</td>\n",
       "      <td>0.9</td>\n",
       "      <td>1544950380000</td>\n",
       "      <td>8</td>\n",
       "      <td>2018-12-16 16:53:00</td>\n",
       "      <td></td>\n",
       "      <td>0.095171</td>\n",
       "      <td>9.456685</td>\n",
       "    </tr>\n",
       "  </tbody>\n",
       "</table>\n",
       "</div>"
      ],
      "text/plain": [
       "            id          nick                    content  score      startTime  \\\n",
       "5   1047931589         睡美熊wt                张艺兴，差点没认出他来    0.9  1545056580000   \n",
       "8   1047936100      美女o请你看电影                   发的干活吧不回家    1.0  1545053400000   \n",
       "24  1047906663  cxT290563230  男神的影片，支持一次吧，说实话，觉得有点低于期望值    0.7  1545039300000   \n",
       "39  1047900227      小菜主题私人订制                  黄渤太逗了  好看    1.0  1545025320000   \n",
       "84  1047802736         曾相识的人                   很好看，太逗太逗    0.9  1544950380000   \n",
       "\n",
       "    contentlen           startTime1                 keyword  score_nlp  \\\n",
       "5           11  2018-12-17 22:23:00                  认出/差点/   0.160609   \n",
       "8            8  2018-12-17 21:30:00                           0.186794   \n",
       "24          25  2018-12-17 17:35:00  觉得/男神/期望值/支持/有点/影片/低于/   0.024580   \n",
       "39           9  2018-12-17 13:42:00                           0.155487   \n",
       "84           8  2018-12-16 16:53:00                           0.095171   \n",
       "\n",
       "        ratio  \n",
       "5    5.603675  \n",
       "8    5.353499  \n",
       "24  28.478863  \n",
       "39   6.431400  \n",
       "84   9.456685  "
      ]
     },
     "execution_count": 28,
     "metadata": {},
     "output_type": "execute_result"
    }
   ],
   "source": [
    "wrong_Movie=movie[movie.ratio>5]#|movie.ratio<0.9\n",
    "wrong_Movie.head()"
   ]
  },
  {
   "cell_type": "code",
   "execution_count": 32,
   "metadata": {},
   "outputs": [
    {
     "data": {
      "text/plain": [
       "<matplotlib.axes._subplots.AxesSubplot at 0x39f33dd8>"
      ]
     },
     "execution_count": 32,
     "metadata": {},
     "output_type": "execute_result"
    },
    {
     "data": {
      "image/png": "[encoded data removed]",
      "text/plain": [
       "<Figure size 864x288 with 1 Axes>"
      ]
     },
     "metadata": {},
     "output_type": "display_data"
    }
   ],
   "source": [
    "new_movie[[\"contentlen\",\"score\"]].groupby(\"score\").mean().plot(figsize=(12,4),kind=\"bar\")"
   ]
  },
  {
   "cell_type": "code",
   "execution_count": 45,
   "metadata": {},
   "outputs": [
    {
     "data": {
      "text/plain": [
       "<matplotlib.axes._subplots.AxesSubplot at 0x35a95dd8>"
      ]
     },
     "execution_count": 45,
     "metadata": {},
     "output_type": "execute_result"
    },
    {
     "data": {
      "image/png": "[encoded data removed]",
      "text/plain": [
       "<Figure size 2160x288 with 1 Axes>"
      ]
     },
     "metadata": {},
     "output_type": "display_data"
    }
   ],
   "source": [
    "new_movie[[\"contentlen\",\"score\"]].groupby(\"contentlen\").mean().plot(figsize=(30,4),kind=\"bar\")"
   ]
  }
 ],
 "metadata": {
  "kernelspec": {
   "display_name": "Python 3",
   "language": "python",
   "name": "python3"
  },
  "language_info": {
   "codemirror_mode": {
    "name": "ipython",
    "version": 3
   },
   "file_extension": ".py",
   "mimetype": "text/x-python",
   "name": "python",
   "nbconvert_exporter": "python",
   "pygments_lexer": "ipython3",
   "version": "3.7.6"
  }
 },
 "nbformat": 4,
 "nbformat_minor": 2
}
